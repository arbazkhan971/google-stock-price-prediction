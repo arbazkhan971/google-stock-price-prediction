{
 "cells": [
  {
   "cell_type": "code",
   "execution_count": 1,
   "metadata": {},
   "outputs": [],
   "source": [
    "import pandas as pd\n",
    "import numpy as np\n",
    "import matplotlib.pyplot as plt"
   ]
  },
  {
   "cell_type": "code",
   "execution_count": 5,
   "metadata": {},
   "outputs": [],
   "source": [
    "training_set=pd.read_csv(\"Google_Stock_Price_Train.csv\")"
   ]
  },
  {
   "cell_type": "code",
   "execution_count": 6,
   "metadata": {},
   "outputs": [],
   "source": [
    "training_set=training_set.iloc[:,1:2].values"
   ]
  },
  {
   "cell_type": "code",
   "execution_count": 7,
   "metadata": {},
   "outputs": [
    {
     "data": {
      "text/plain": [
       "array([[325.25],\n",
       "       [331.27],\n",
       "       [329.83],\n",
       "       ...,\n",
       "       [793.7 ],\n",
       "       [783.33],\n",
       "       [782.75]])"
      ]
     },
     "execution_count": 7,
     "metadata": {},
     "output_type": "execute_result"
    }
   ],
   "source": [
    "training_set"
   ]
  },
  {
   "cell_type": "code",
   "execution_count": 8,
   "metadata": {},
   "outputs": [],
   "source": [
    "from sklearn.preprocessing import MinMaxScaler\n",
    "sc = MinMaxScaler(feature_range = (0, 1))\n",
    "training_set_scaled = sc.fit_transform(training_set)"
   ]
  },
  {
   "cell_type": "code",
   "execution_count": 9,
   "metadata": {},
   "outputs": [
    {
     "data": {
      "text/plain": [
       "array([[0.08581368],\n",
       "       [0.09701243],\n",
       "       [0.09433366],\n",
       "       ...,\n",
       "       [0.95725128],\n",
       "       [0.93796041],\n",
       "       [0.93688146]])"
      ]
     },
     "execution_count": 9,
     "metadata": {},
     "output_type": "execute_result"
    }
   ],
   "source": [
    "training_set_scaled"
   ]
  },
  {
   "cell_type": "code",
   "execution_count": 16,
   "metadata": {},
   "outputs": [],
   "source": [
    "#input and output\n",
    "X_train=training_set_scaled[0:1257]\n",
    "y_train=training_set_scaled[1:1258]"
   ]
  },
  {
   "cell_type": "code",
   "execution_count": 1,
   "metadata": {},
   "outputs": [
    {
     "ename": "NameError",
     "evalue": "name 'X_train' is not defined",
     "output_type": "error",
     "traceback": [
      "\u001b[1;31m---------------------------------------------------------------------------\u001b[0m",
      "\u001b[1;31mNameError\u001b[0m                                 Traceback (most recent call last)",
      "\u001b[1;32m<ipython-input-1-4efb3f29945d>\u001b[0m in \u001b[0;36m<module>\u001b[1;34m()\u001b[0m\n\u001b[1;32m----> 1\u001b[1;33m \u001b[0mlen\u001b[0m\u001b[1;33m(\u001b[0m\u001b[0mX_train\u001b[0m\u001b[1;33m)\u001b[0m\u001b[1;33m\u001b[0m\u001b[0m\n\u001b[0m",
      "\u001b[1;31mNameError\u001b[0m: name 'X_train' is not defined"
     ]
    }
   ],
   "source": [
    "len(X_train)"
   ]
  },
  {
   "cell_type": "code",
   "execution_count": 12,
   "metadata": {},
   "outputs": [
    {
     "data": {
      "text/plain": [
       "array([[0.09701243],\n",
       "       [0.09433366],\n",
       "       [0.09156187],\n",
       "       ...,\n",
       "       [0.95725128],\n",
       "       [0.93796041],\n",
       "       [0.93688146]])"
      ]
     },
     "execution_count": 12,
     "metadata": {},
     "output_type": "execute_result"
    }
   ],
   "source": [
    "y_train"
   ]
  },
  {
   "cell_type": "code",
   "execution_count": 17,
   "metadata": {},
   "outputs": [],
   "source": [
    "X_train=np.reshape(X_train,(1257,1,1))"
   ]
  },
  {
   "cell_type": "code",
   "execution_count": 18,
   "metadata": {},
   "outputs": [
    {
     "data": {
      "text/plain": [
       "array([[[0.08581368]],\n",
       "\n",
       "       [[0.09701243]],\n",
       "\n",
       "       [[0.09433366]],\n",
       "\n",
       "       ...,\n",
       "\n",
       "       [[0.95163331]],\n",
       "\n",
       "       [[0.95725128]],\n",
       "\n",
       "       [[0.93796041]]])"
      ]
     },
     "execution_count": 18,
     "metadata": {},
     "output_type": "execute_result"
    }
   ],
   "source": [
    "X_train"
   ]
  },
  {
   "cell_type": "code",
   "execution_count": 19,
   "metadata": {},
   "outputs": [
    {
     "name": "stderr",
     "output_type": "stream",
     "text": [
      "Using TensorFlow backend.\n"
     ]
    }
   ],
   "source": [
    "from keras.models import Sequential\n",
    "from keras.layers import Dense\n",
    "from keras.layers import LSTM"
   ]
  },
  {
   "cell_type": "code",
   "execution_count": 20,
   "metadata": {},
   "outputs": [],
   "source": [
    "regressor=Sequential()"
   ]
  },
  {
   "cell_type": "code",
   "execution_count": 23,
   "metadata": {},
   "outputs": [],
   "source": [
    "#adding input layer and lstm layer\n",
    "regressor.add(LSTM(units=4, activation = \"sigmoid\" ,input_shape=(None , 1)))\n",
    "\n",
    "\n",
    "\n"
   ]
  },
  {
   "cell_type": "code",
   "execution_count": 24,
   "metadata": {},
   "outputs": [],
   "source": [
    "regressor.add(Dense(units=1))"
   ]
  },
  {
   "cell_type": "code",
   "execution_count": 25,
   "metadata": {},
   "outputs": [],
   "source": [
    "regressor.compile(optimizer =\"adam\",loss=\"mean_squared_error\")"
   ]
  },
  {
   "cell_type": "code",
   "execution_count": 26,
   "metadata": {},
   "outputs": [
    {
     "name": "stdout",
     "output_type": "stream",
     "text": [
      "Epoch 1/200\n",
      "1257/1257 [==============================] - 6s 5ms/step - loss: 0.6293\n",
      "Epoch 2/200\n",
      "1257/1257 [==============================] - 0s 176us/step - loss: 0.4849\n",
      "Epoch 3/200\n",
      "1257/1257 [==============================] - 0s 94us/step - loss: 0.3716\n",
      "Epoch 4/200\n",
      "1257/1257 [==============================] - 0s 85us/step - loss: 0.2845\n",
      "Epoch 5/200\n",
      "1257/1257 [==============================] - 0s 84us/step - loss: 0.2183\n",
      "Epoch 6/200\n",
      "1257/1257 [==============================] - 0s 80us/step - loss: 0.1688\n",
      "Epoch 7/200\n",
      "1257/1257 [==============================] - 0s 91us/step - loss: 0.1329\n",
      "Epoch 8/200\n",
      "1257/1257 [==============================] - 0s 82us/step - loss: 0.1076\n",
      "Epoch 9/200\n",
      "1257/1257 [==============================] - 0s 98us/step - loss: 0.0903\n",
      "Epoch 10/200\n",
      "1257/1257 [==============================] - 0s 72us/step - loss: 0.0788\n",
      "Epoch 11/200\n",
      "1257/1257 [==============================] - 0s 79us/step - loss: 0.0714\n",
      "Epoch 12/200\n",
      "1257/1257 [==============================] - 0s 83us/step - loss: 0.0667\n",
      "Epoch 13/200\n",
      "1257/1257 [==============================] - 0s 94us/step - loss: 0.0637\n",
      "Epoch 14/200\n",
      "1257/1257 [==============================] - 0s 83us/step - loss: 0.0617\n",
      "Epoch 15/200\n",
      "1257/1257 [==============================] - 0s 82us/step - loss: 0.0603\n",
      "Epoch 16/200\n",
      "1257/1257 [==============================] - 0s 88us/step - loss: 0.0592\n",
      "Epoch 17/200\n",
      "1257/1257 [==============================] - 0s 71us/step - loss: 0.0582\n",
      "Epoch 18/200\n",
      "1257/1257 [==============================] - 0s 73us/step - loss: 0.0573\n",
      "Epoch 19/200\n",
      "1257/1257 [==============================] - 0s 79us/step - loss: 0.0564\n",
      "Epoch 20/200\n",
      "1257/1257 [==============================] - 0s 78us/step - loss: 0.0555\n",
      "Epoch 21/200\n",
      "1257/1257 [==============================] - 0s 97us/step - loss: 0.0546\n",
      "Epoch 22/200\n",
      "1257/1257 [==============================] - 0s 83us/step - loss: 0.0537\n",
      "Epoch 23/200\n",
      "1257/1257 [==============================] - 0s 91us/step - loss: 0.0528\n",
      "Epoch 24/200\n",
      "1257/1257 [==============================] - 0s 91us/step - loss: 0.0518\n",
      "Epoch 25/200\n",
      "1257/1257 [==============================] - 0s 76us/step - loss: 0.0509\n",
      "Epoch 26/200\n",
      "1257/1257 [==============================] - 0s 78us/step - loss: 0.0499\n",
      "Epoch 27/200\n",
      "1257/1257 [==============================] - 0s 86us/step - loss: 0.0489\n",
      "Epoch 28/200\n",
      "1257/1257 [==============================] - 0s 82us/step - loss: 0.0479\n",
      "Epoch 29/200\n",
      "1257/1257 [==============================] - 0s 82us/step - loss: 0.0469\n",
      "Epoch 30/200\n",
      "1257/1257 [==============================] - 0s 90us/step - loss: 0.0459\n",
      "Epoch 31/200\n",
      "1257/1257 [==============================] - 0s 111us/step - loss: 0.0448\n",
      "Epoch 32/200\n",
      "1257/1257 [==============================] - 0s 78us/step - loss: 0.0438\n",
      "Epoch 33/200\n",
      "1257/1257 [==============================] - 0s 75us/step - loss: 0.0427\n",
      "Epoch 34/200\n",
      "1257/1257 [==============================] - 0s 72us/step - loss: 0.0416\n",
      "Epoch 35/200\n",
      "1257/1257 [==============================] - 0s 74us/step - loss: 0.0405\n",
      "Epoch 36/200\n",
      "1257/1257 [==============================] - 0s 75us/step - loss: 0.0394\n",
      "Epoch 37/200\n",
      "1257/1257 [==============================] - 0s 73us/step - loss: 0.0383\n",
      "Epoch 38/200\n",
      "1257/1257 [==============================] - 0s 91us/step - loss: 0.0372\n",
      "Epoch 39/200\n",
      "1257/1257 [==============================] - 0s 80us/step - loss: 0.0360\n",
      "Epoch 40/200\n",
      "1257/1257 [==============================] - 0s 73us/step - loss: 0.0349\n",
      "Epoch 41/200\n",
      "1257/1257 [==============================] - 0s 82us/step - loss: 0.0337\n",
      "Epoch 42/200\n",
      "1257/1257 [==============================] - 0s 81us/step - loss: 0.0326\n",
      "Epoch 43/200\n",
      "1257/1257 [==============================] - 0s 82us/step - loss: 0.0314\n",
      "Epoch 44/200\n",
      "1257/1257 [==============================] - 0s 80us/step - loss: 0.0302\n",
      "Epoch 45/200\n",
      "1257/1257 [==============================] - 0s 80us/step - loss: 0.0291\n",
      "Epoch 46/200\n",
      "1257/1257 [==============================] - 0s 124us/step - loss: 0.0279\n",
      "Epoch 47/200\n",
      "1257/1257 [==============================] - 0s 119us/step - loss: 0.0267\n",
      "Epoch 48/200\n",
      "1257/1257 [==============================] - 0s 106us/step - loss: 0.0256\n",
      "Epoch 49/200\n",
      "1257/1257 [==============================] - 0s 104us/step - loss: 0.0244\n",
      "Epoch 50/200\n",
      "1257/1257 [==============================] - 0s 80us/step - loss: 0.0233\n",
      "Epoch 51/200\n",
      "1257/1257 [==============================] - 0s 91us/step - loss: 0.0221\n",
      "Epoch 52/200\n",
      "1257/1257 [==============================] - 0s 77us/step - loss: 0.0210\n",
      "Epoch 53/200\n",
      "1257/1257 [==============================] - 0s 90us/step - loss: 0.0199\n",
      "Epoch 54/200\n",
      "1257/1257 [==============================] - 0s 80us/step - loss: 0.0188\n",
      "Epoch 55/200\n",
      "1257/1257 [==============================] - 0s 74us/step - loss: 0.0177\n",
      "Epoch 56/200\n",
      "1257/1257 [==============================] - 0s 78us/step - loss: 0.0167\n",
      "Epoch 57/200\n",
      "1257/1257 [==============================] - 0s 97us/step - loss: 0.0156\n",
      "Epoch 58/200\n",
      "1257/1257 [==============================] - 0s 102us/step - loss: 0.0146\n",
      "Epoch 59/200\n",
      "1257/1257 [==============================] - 0s 103us/step - loss: 0.0137\n",
      "Epoch 60/200\n",
      "1257/1257 [==============================] - 0s 104us/step - loss: 0.0127\n",
      "Epoch 61/200\n",
      "1257/1257 [==============================] - 0s 123us/step - loss: 0.0118\n",
      "Epoch 62/200\n",
      "1257/1257 [==============================] - 0s 118us/step - loss: 0.0109\n",
      "Epoch 63/200\n",
      "1257/1257 [==============================] - 0s 107us/step - loss: 0.0101\n",
      "Epoch 64/200\n",
      "1257/1257 [==============================] - 0s 99us/step - loss: 0.0093\n",
      "Epoch 65/200\n",
      "1257/1257 [==============================] - 0s 97us/step - loss: 0.0085\n",
      "Epoch 66/200\n",
      "1257/1257 [==============================] - 0s 126us/step - loss: 0.0078\n",
      "Epoch 67/200\n",
      "1257/1257 [==============================] - 0s 100us/step - loss: 0.0071\n",
      "Epoch 68/200\n",
      "1257/1257 [==============================] - 0s 107us/step - loss: 0.0064\n",
      "Epoch 69/200\n",
      "1257/1257 [==============================] - 0s 82us/step - loss: 0.0058\n",
      "Epoch 70/200\n",
      "1257/1257 [==============================] - 0s 117us/step - loss: 0.0053\n",
      "Epoch 71/200\n",
      "1257/1257 [==============================] - 0s 110us/step - loss: 0.0047\n",
      "Epoch 72/200\n",
      "1257/1257 [==============================] - 0s 90us/step - loss: 0.0042\n",
      "Epoch 73/200\n",
      "1257/1257 [==============================] - 0s 97us/step - loss: 0.0038\n",
      "Epoch 74/200\n",
      "1257/1257 [==============================] - 0s 101us/step - loss: 0.0034\n",
      "Epoch 75/200\n",
      "1257/1257 [==============================] - 0s 105us/step - loss: 0.0030\n",
      "Epoch 76/200\n",
      "1257/1257 [==============================] - 0s 107us/step - loss: 0.0027\n",
      "Epoch 77/200\n",
      "1257/1257 [==============================] - 0s 106us/step - loss: 0.0024\n",
      "Epoch 78/200\n",
      "1257/1257 [==============================] - 0s 98us/step - loss: 0.0021\n",
      "Epoch 79/200\n",
      "1257/1257 [==============================] - 0s 103us/step - loss: 0.0018\n",
      "Epoch 80/200\n",
      "1257/1257 [==============================] - 0s 91us/step - loss: 0.0016\n",
      "Epoch 81/200\n",
      "1257/1257 [==============================] - 0s 131us/step - loss: 0.0014\n",
      "Epoch 82/200\n",
      "1257/1257 [==============================] - 0s 119us/step - loss: 0.0012\n",
      "Epoch 83/200\n",
      "1257/1257 [==============================] - 0s 147us/step - loss: 0.0011\n",
      "Epoch 84/200\n",
      "1257/1257 [==============================] - 0s 131us/step - loss: 9.6364e-04\n",
      "Epoch 85/200\n",
      "1257/1257 [==============================] - 0s 107us/step - loss: 8.5211e-04\n",
      "Epoch 86/200\n",
      "1257/1257 [==============================] - 0s 97us/step - loss: 7.5594e-04\n",
      "Epoch 87/200\n",
      "1257/1257 [==============================] - 0s 98us/step - loss: 6.7329e-04\n",
      "Epoch 88/200\n",
      "1257/1257 [==============================] - 0s 95us/step - loss: 6.0535e-04\n",
      "Epoch 89/200\n",
      "1257/1257 [==============================] - 0s 97us/step - loss: 5.4631e-04\n",
      "Epoch 90/200\n",
      "1257/1257 [==============================] - 0s 88us/step - loss: 4.9757e-04\n",
      "Epoch 91/200\n",
      "1257/1257 [==============================] - 0s 101us/step - loss: 4.5701e-04\n",
      "Epoch 92/200\n",
      "1257/1257 [==============================] - 0s 92us/step - loss: 4.2314e-04\n",
      "Epoch 93/200\n",
      "1257/1257 [==============================] - 0s 91us/step - loss: 3.9402e-04\n",
      "Epoch 94/200\n",
      "1257/1257 [==============================] - 0s 98us/step - loss: 3.7120e-04\n",
      "Epoch 95/200\n",
      "1257/1257 [==============================] - 0s 95us/step - loss: 3.5169e-04\n",
      "Epoch 96/200\n",
      "1257/1257 [==============================] - 0s 78us/step - loss: 3.3648e-04\n",
      "Epoch 97/200\n",
      "1257/1257 [==============================] - 0s 73us/step - loss: 3.2359e-04\n",
      "Epoch 98/200\n",
      "1257/1257 [==============================] - 0s 76us/step - loss: 3.1367e-04\n",
      "Epoch 99/200\n",
      "1257/1257 [==============================] - 0s 82us/step - loss: 3.0506e-04\n",
      "Epoch 100/200\n",
      "1257/1257 [==============================] - 0s 75us/step - loss: 2.9885e-04\n",
      "Epoch 101/200\n",
      "1257/1257 [==============================] - 0s 74us/step - loss: 2.9366e-04\n",
      "Epoch 102/200\n",
      "1257/1257 [==============================] - 0s 85us/step - loss: 2.8927e-04\n",
      "Epoch 103/200\n",
      "1257/1257 [==============================] - 0s 83us/step - loss: 2.8701e-04\n",
      "Epoch 104/200\n",
      "1257/1257 [==============================] - 0s 93us/step - loss: 2.8336e-04\n",
      "Epoch 105/200\n",
      "1257/1257 [==============================] - 0s 89us/step - loss: 2.8068e-04\n",
      "Epoch 106/200\n",
      "1257/1257 [==============================] - 0s 86us/step - loss: 2.7861e-04\n",
      "Epoch 107/200\n",
      "1257/1257 [==============================] - 0s 78us/step - loss: 2.7703e-04\n",
      "Epoch 108/200\n",
      "1257/1257 [==============================] - 0s 80us/step - loss: 2.7574e-04\n",
      "Epoch 109/200\n",
      "1257/1257 [==============================] - 0s 73us/step - loss: 2.7488e-04\n",
      "Epoch 110/200\n",
      "1257/1257 [==============================] - 0s 75us/step - loss: 2.7360e-04\n",
      "Epoch 111/200\n",
      "1257/1257 [==============================] - 0s 70us/step - loss: 2.7299e-04\n",
      "Epoch 112/200\n",
      "1257/1257 [==============================] - 0s 74us/step - loss: 2.7379e-04\n",
      "Epoch 113/200\n",
      "1257/1257 [==============================] - 0s 78us/step - loss: 2.7139e-04\n",
      "Epoch 114/200\n",
      "1257/1257 [==============================] - 0s 78us/step - loss: 2.7124e-04\n",
      "Epoch 115/200\n",
      "1257/1257 [==============================] - 0s 81us/step - loss: 2.7012e-04\n",
      "Epoch 116/200\n",
      "1257/1257 [==============================] - 0s 79us/step - loss: 2.7000e-04\n",
      "Epoch 117/200\n",
      "1257/1257 [==============================] - 0s 75us/step - loss: 2.6971e-04\n",
      "Epoch 118/200\n",
      "1257/1257 [==============================] - 0s 78us/step - loss: 2.6851e-04\n",
      "Epoch 119/200\n",
      "1257/1257 [==============================] - 0s 86us/step - loss: 2.6734e-04\n",
      "Epoch 120/200\n",
      "1257/1257 [==============================] - 0s 78us/step - loss: 2.6738e-04\n",
      "Epoch 121/200\n",
      "1257/1257 [==============================] - 0s 74us/step - loss: 2.6642e-04\n",
      "Epoch 122/200\n",
      "1257/1257 [==============================] - 0s 78us/step - loss: 2.6637e-04\n",
      "Epoch 123/200\n",
      "1257/1257 [==============================] - 0s 78us/step - loss: 2.6610e-04\n",
      "Epoch 124/200\n",
      "1257/1257 [==============================] - 0s 74us/step - loss: 2.6474e-04\n",
      "Epoch 125/200\n",
      "1257/1257 [==============================] - 0s 119us/step - loss: 2.6459e-04\n",
      "Epoch 126/200\n",
      "1257/1257 [==============================] - 0s 93us/step - loss: 2.6340e-04\n",
      "Epoch 127/200\n",
      "1257/1257 [==============================] - 0s 81us/step - loss: 2.6346e-04\n",
      "Epoch 128/200\n",
      "1257/1257 [==============================] - 0s 78us/step - loss: 2.6362e-04\n",
      "Epoch 129/200\n",
      "1257/1257 [==============================] - 0s 74us/step - loss: 2.6207e-04\n",
      "Epoch 130/200\n",
      "1257/1257 [==============================] - 0s 80us/step - loss: 2.6282e-04\n",
      "Epoch 131/200\n",
      "1257/1257 [==============================] - 0s 80us/step - loss: 2.6193e-04\n",
      "Epoch 132/200\n",
      "1257/1257 [==============================] - 0s 83us/step - loss: 2.6120e-04\n",
      "Epoch 133/200\n",
      "1257/1257 [==============================] - 0s 98us/step - loss: 2.6053e-04\n",
      "Epoch 134/200\n",
      "1257/1257 [==============================] - 0s 89us/step - loss: 2.6125e-04\n",
      "Epoch 135/200\n",
      "1257/1257 [==============================] - 0s 86us/step - loss: 2.6169e-04\n",
      "Epoch 136/200\n",
      "1257/1257 [==============================] - 0s 83us/step - loss: 2.5989e-04\n",
      "Epoch 137/200\n",
      "1257/1257 [==============================] - 0s 78us/step - loss: 2.5990e-04\n",
      "Epoch 138/200\n",
      "1257/1257 [==============================] - 0s 70us/step - loss: 2.5922e-04\n",
      "Epoch 139/200\n",
      "1257/1257 [==============================] - 0s 85us/step - loss: 2.5925e-04\n",
      "Epoch 140/200\n",
      "1257/1257 [==============================] - 0s 80us/step - loss: 2.5903e-04\n",
      "Epoch 141/200\n",
      "1257/1257 [==============================] - 0s 77us/step - loss: 2.5866e-04\n",
      "Epoch 142/200\n",
      "1257/1257 [==============================] - 0s 115us/step - loss: 2.5914e-04\n",
      "Epoch 143/200\n",
      "1257/1257 [==============================] - 0s 106us/step - loss: 2.5784e-04\n",
      "Epoch 144/200\n",
      "1257/1257 [==============================] - 0s 140us/step - loss: 2.5873e-04\n",
      "Epoch 145/200\n",
      "1257/1257 [==============================] - 0s 101us/step - loss: 2.5772e-04\n",
      "Epoch 146/200\n",
      "1257/1257 [==============================] - 0s 105us/step - loss: 2.5758e-04\n",
      "Epoch 147/200\n",
      "1257/1257 [==============================] - 0s 95us/step - loss: 2.5753e-04\n",
      "Epoch 148/200\n",
      "1257/1257 [==============================] - 0s 93us/step - loss: 2.5700e-04\n",
      "Epoch 149/200\n",
      "1257/1257 [==============================] - 0s 93us/step - loss: 2.5660e-04\n",
      "Epoch 150/200\n",
      "1257/1257 [==============================] - 0s 113us/step - loss: 2.5825e-04\n",
      "Epoch 151/200\n",
      "1257/1257 [==============================] - 0s 82us/step - loss: 2.5638e-04\n",
      "Epoch 152/200\n",
      "1257/1257 [==============================] - 0s 76us/step - loss: 2.5612e-04\n",
      "Epoch 153/200\n",
      "1257/1257 [==============================] - 0s 89us/step - loss: 2.5671e-04\n",
      "Epoch 154/200\n",
      "1257/1257 [==============================] - 0s 88us/step - loss: 2.5647e-04\n",
      "Epoch 155/200\n",
      "1257/1257 [==============================] - 0s 91us/step - loss: 2.5653e-04\n",
      "Epoch 156/200\n",
      "1257/1257 [==============================] - 0s 84us/step - loss: 2.5413e-04\n",
      "Epoch 157/200\n",
      "1257/1257 [==============================] - 0s 83us/step - loss: 2.5437e-04\n",
      "Epoch 158/200\n",
      "1257/1257 [==============================] - 0s 88us/step - loss: 2.5679e-04\n",
      "Epoch 159/200\n",
      "1257/1257 [==============================] - 0s 91us/step - loss: 2.5407e-04\n",
      "Epoch 160/200\n",
      "1257/1257 [==============================] - 0s 82us/step - loss: 2.5407e-04\n",
      "Epoch 161/200\n",
      "1257/1257 [==============================] - 0s 85us/step - loss: 2.5431e-04\n",
      "Epoch 162/200\n",
      "1257/1257 [==============================] - 0s 90us/step - loss: 2.5526e-04\n",
      "Epoch 163/200\n",
      "1257/1257 [==============================] - 0s 95us/step - loss: 2.5483e-04\n",
      "Epoch 164/200\n",
      "1257/1257 [==============================] - 0s 103us/step - loss: 2.5389e-04\n",
      "Epoch 165/200\n",
      "1257/1257 [==============================] - 0s 114us/step - loss: 2.5240e-04\n",
      "Epoch 166/200\n",
      "1257/1257 [==============================] - 0s 101us/step - loss: 2.5514e-04\n",
      "Epoch 167/200\n",
      "1257/1257 [==============================] - 0s 91us/step - loss: 2.5277e-04\n",
      "Epoch 168/200\n",
      "1257/1257 [==============================] - 0s 88us/step - loss: 2.5361e-04\n",
      "Epoch 169/200\n",
      "1257/1257 [==============================] - 0s 81us/step - loss: 2.5226e-04\n",
      "Epoch 170/200\n",
      "1257/1257 [==============================] - 0s 94us/step - loss: 2.5409e-04\n",
      "Epoch 171/200\n",
      "1257/1257 [==============================] - 0s 101us/step - loss: 2.5302e-04\n",
      "Epoch 172/200\n",
      "1257/1257 [==============================] - 0s 134us/step - loss: 2.5470e-04\n",
      "Epoch 173/200\n",
      "1257/1257 [==============================] - 0s 187us/step - loss: 2.5187e-04\n",
      "Epoch 174/200\n",
      "1257/1257 [==============================] - 0s 187us/step - loss: 2.5230e-04\n",
      "Epoch 175/200\n",
      "1257/1257 [==============================] - 0s 143us/step - loss: 2.5168e-04\n",
      "Epoch 176/200\n",
      "1257/1257 [==============================] - 0s 139us/step - loss: 2.5278e-04\n",
      "Epoch 177/200\n",
      "1257/1257 [==============================] - 0s 139us/step - loss: 2.5486e-04\n",
      "Epoch 178/200\n",
      "1257/1257 [==============================] - 0s 131us/step - loss: 2.5134e-04\n",
      "Epoch 179/200\n",
      "1257/1257 [==============================] - 0s 147us/step - loss: 2.5133e-04\n",
      "Epoch 180/200\n",
      "1257/1257 [==============================] - 0s 115us/step - loss: 2.5174e-04\n",
      "Epoch 181/200\n",
      "1257/1257 [==============================] - 0s 100us/step - loss: 2.5291e-04\n",
      "Epoch 182/200\n",
      "1257/1257 [==============================] - 0s 95us/step - loss: 2.5350e-04\n",
      "Epoch 183/200\n",
      "1257/1257 [==============================] - 0s 102us/step - loss: 2.5165e-04\n",
      "Epoch 184/200\n",
      "1257/1257 [==============================] - 0s 105us/step - loss: 2.5222e-04\n"
     ]
    },
    {
     "name": "stdout",
     "output_type": "stream",
     "text": [
      "Epoch 185/200\n",
      "1257/1257 [==============================] - 0s 87us/step - loss: 2.4953e-04\n",
      "Epoch 186/200\n",
      "1257/1257 [==============================] - 0s 78us/step - loss: 2.5011e-04\n",
      "Epoch 187/200\n",
      "1257/1257 [==============================] - 0s 91us/step - loss: 2.4981e-04\n",
      "Epoch 188/200\n",
      "1257/1257 [==============================] - 0s 80us/step - loss: 2.4998e-04\n",
      "Epoch 189/200\n",
      "1257/1257 [==============================] - 0s 80us/step - loss: 2.5356e-04\n",
      "Epoch 190/200\n",
      "1257/1257 [==============================] - 0s 79us/step - loss: 2.5139e-04\n",
      "Epoch 191/200\n",
      "1257/1257 [==============================] - 0s 70us/step - loss: 2.4935e-04\n",
      "Epoch 192/200\n",
      "1257/1257 [==============================] - 0s 78us/step - loss: 2.5225e-04\n",
      "Epoch 193/200\n",
      "1257/1257 [==============================] - 0s 82us/step - loss: 2.5004e-04\n",
      "Epoch 194/200\n",
      "1257/1257 [==============================] - 0s 75us/step - loss: 2.5134e-04\n",
      "Epoch 195/200\n",
      "1257/1257 [==============================] - 0s 82us/step - loss: 2.5430e-04\n",
      "Epoch 196/200\n",
      "1257/1257 [==============================] - 0s 69us/step - loss: 2.5457e-04\n",
      "Epoch 197/200\n",
      "1257/1257 [==============================] - 0s 87us/step - loss: 2.4903e-04\n",
      "Epoch 198/200\n",
      "1257/1257 [==============================] - 0s 81us/step - loss: 2.4953e-04\n",
      "Epoch 199/200\n",
      "1257/1257 [==============================] - 0s 73us/step - loss: 2.4905e-04\n",
      "Epoch 200/200\n",
      "1257/1257 [==============================] - 0s 85us/step - loss: 2.4984e-04\n"
     ]
    },
    {
     "data": {
      "text/plain": [
       "<keras.callbacks.History at 0x27be9e43e48>"
      ]
     },
     "execution_count": 26,
     "metadata": {},
     "output_type": "execute_result"
    }
   ],
   "source": [
    "regressor.fit(X_train,y_train,batch_size=32,epochs = 200)"
   ]
  },
  {
   "cell_type": "code",
   "execution_count": 27,
   "metadata": {},
   "outputs": [],
   "source": [
    "test_set=pd.read_csv(\"Google_Stock_Price_Test.csv\")\n",
    "real_stock_price=test_set.iloc[:,1:2].values\n"
   ]
  },
  {
   "cell_type": "code",
   "execution_count": 28,
   "metadata": {},
   "outputs": [],
   "source": [
    "inputs=real_stock_price"
   ]
  },
  {
   "cell_type": "code",
   "execution_count": 29,
   "metadata": {},
   "outputs": [],
   "source": [
    "inputs = sc.transform(inputs)"
   ]
  },
  {
   "cell_type": "code",
   "execution_count": 31,
   "metadata": {},
   "outputs": [],
   "source": [
    "inputs=np.reshape(inputs,(20,1,1))"
   ]
  },
  {
   "cell_type": "code",
   "execution_count": 32,
   "metadata": {},
   "outputs": [
    {
     "data": {
      "text/plain": [
       "array([[[0.92955205]],\n",
       "\n",
       "       [[0.94731751]],\n",
       "\n",
       "       [[0.94307612]],\n",
       "\n",
       "       [[0.96015329]],\n",
       "\n",
       "       [[0.98087655]],\n",
       "\n",
       "       [[0.98359253]],\n",
       "\n",
       "       [[0.97827219]],\n",
       "\n",
       "       [[0.98225314]],\n",
       "\n",
       "       [[0.98288563]],\n",
       "\n",
       "       [[0.98214153]],\n",
       "\n",
       "       [[0.979779  ]],\n",
       "\n",
       "       [[0.97849542]],\n",
       "\n",
       "       [[0.98182528]],\n",
       "\n",
       "       [[0.98245777]],\n",
       "\n",
       "       [[1.01045465]],\n",
       "\n",
       "       [[1.02407173]],\n",
       "\n",
       "       [[1.03930724]],\n",
       "\n",
       "       [[1.03354044]],\n",
       "\n",
       "       [[0.99624228]],\n",
       "\n",
       "       [[0.9631297 ]]])"
      ]
     },
     "execution_count": 32,
     "metadata": {},
     "output_type": "execute_result"
    }
   ],
   "source": [
    "inputs"
   ]
  },
  {
   "cell_type": "code",
   "execution_count": 33,
   "metadata": {},
   "outputs": [],
   "source": [
    "predicted_stock_price=regressor.predict(inputs)"
   ]
  },
  {
   "cell_type": "code",
   "execution_count": 34,
   "metadata": {},
   "outputs": [],
   "source": [
    "predicted_stock_price=sc.inverse_transform(predicted_stock_price)"
   ]
  },
  {
   "cell_type": "code",
   "execution_count": 35,
   "metadata": {},
   "outputs": [
    {
     "data": {
      "text/plain": [
       "array([[778.7722 ],\n",
       "       [787.50757],\n",
       "       [785.42377],\n",
       "       [793.8071 ],\n",
       "       [803.9565 ],\n",
       "       [805.2846 ],\n",
       "       [802.68243],\n",
       "       [804.62976],\n",
       "       [804.93896],\n",
       "       [804.57513],\n",
       "       [803.4195 ],\n",
       "       [802.79156],\n",
       "       [804.4205 ],\n",
       "       [804.72974],\n",
       "       [818.3978 ],\n",
       "       [825.0286 ],\n",
       "       [832.4347 ],\n",
       "       [829.6332 ],\n",
       "       [811.46515],\n",
       "       [795.2664 ]], dtype=float32)"
      ]
     },
     "execution_count": 35,
     "metadata": {},
     "output_type": "execute_result"
    }
   ],
   "source": [
    "predicted_stock_price"
   ]
  },
  {
   "cell_type": "code",
   "execution_count": 38,
   "metadata": {},
   "outputs": [
    {
     "data": {
      "image/png": "[encoded data removed]",
      "text/plain": [
       "<Figure size 432x288 with 1 Axes>"
      ]
     },
     "metadata": {},
     "output_type": "display_data"
    }
   ],
   "source": [
    "plt.plot(real_stock_price,color=\"red\",label=\"real google  stock price\")\n",
    "plt.plot(predicted_stock_price,color=\"blue\",label=\"predicted  google stock price\")\n",
    "plt.title(\"Gooogle stock price prediction\")\n",
    "plt.xlabel(\"Time\")\n",
    "plt.ylabel(\"Stock price\")\n",
    "plt.legend()\n",
    "plt.show()"
   ]
  },
  {
   "cell_type": "code",
   "execution_count": 39,
   "metadata": {},
   "outputs": [],
   "source": [
    "import math\n",
    "from sklearn.metrics import mean_squared_error\n",
    "rmse = math.sqrt(mean_squared_error(real_stock_price,predicted_stock_price))"
   ]
  },
  {
   "cell_type": "code",
   "execution_count": 40,
   "metadata": {},
   "outputs": [
    {
     "data": {
      "text/plain": [
       "2.8955526360594703"
      ]
     },
     "execution_count": 40,
     "metadata": {},
     "output_type": "execute_result"
    }
   ],
   "source": [
    "rmse"
   ]
  },
  {
   "cell_type": "code",
   "execution_count": null,
   "metadata": {},
   "outputs": [],
   "source": []
  },
  {
   "cell_type": "code",
   "execution_count": null,
   "metadata": {},
   "outputs": [],
   "source": []
  },
  {
   "cell_type": "code",
   "execution_count": null,
   "metadata": {},
   "outputs": [],
   "source": []
  }
 ],
 "metadata": {
  "kernelspec": {
   "display_name": "Python 3",
   "language": "python",
   "name": "python3"
  },
  "language_info": {
   "codemirror_mode": {
    "name": "ipython",
    "version": 3
   },
   "file_extension": ".py",
   "mimetype": "text/x-python",
   "name": "python",
   "nbconvert_exporter": "python",
   "pygments_lexer": "ipython3",
   "version": "3.5.5"
  }
 },
 "nbformat": 4,
 "nbformat_minor": 2
}
